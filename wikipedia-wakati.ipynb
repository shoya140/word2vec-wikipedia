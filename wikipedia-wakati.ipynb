{
 "metadata": {
  "name": "",
  "signature": "sha256:34e5831ebdf4a9f77ae1f68adeeeb184476c4ffda3bb0436fed5b07090c26f0b"
 },
 "nbformat": 3,
 "nbformat_minor": 0,
 "worksheets": [
  {
   "cells": [
    {
     "cell_type": "code",
     "collapsed": false,
     "input": [
      "#coding: utf-8\n",
      "import os\n",
      "import glob\n",
      "import MeCab\n",
      "from gensim.models import word2vec\n",
      "from multiprocessing import Pool"
     ],
     "language": "python",
     "metadata": {},
     "outputs": [],
     "prompt_number": 1
    },
    {
     "cell_type": "markdown",
     "metadata": {},
     "source": [
      "## wakati"
     ]
    },
    {
     "cell_type": "code",
     "collapsed": false,
     "input": [
      "def files(directory_path):\n",
      "    return glob.glob('%s/*.txt'%directory_path)\n",
      "\n",
      "def wakati(file_path):\n",
      "    mecab = MeCab.Tagger('-Owakati')\n",
      "    f = open(file_path)\n",
      "    lines = [x.replace('\\n', '') for x in f.readlines()]\n",
      "    f.close()\n",
      "    \n",
      "    text = ''\n",
      "    for line in lines:\n",
      "        if len(line) == 0:\n",
      "            continue\n",
      "        text += mecab.parse(line)\n",
      "    return '\\n'.join([x for x in text.replace('\u3002', '\u3002\\n').split('\\n') if len(x) > 1])"
     ],
     "language": "python",
     "metadata": {},
     "outputs": [],
     "prompt_number": 2
    },
    {
     "cell_type": "code",
     "collapsed": false,
     "input": [
      "pl = Pool()\n",
      "# It takes around 3min to finish this process...\n",
      "# http://plus.shonenjump.com/rensai_detail.html?item_cd=SHSA_JP01PLUS00000959_57\n",
      "%time wts = pl.map(wakati, files('./data/'))\n",
      "pl.terminate()"
     ],
     "language": "python",
     "metadata": {},
     "outputs": [
      {
       "output_type": "stream",
       "stream": "stdout",
       "text": [
        "CPU times: user 3.91 s, sys: 8.21 s, total: 12.1 s\n",
        "Wall time: 2min 55s\n"
       ]
      }
     ],
     "prompt_number": 3
    },
    {
     "cell_type": "code",
     "collapsed": false,
     "input": [
      "if not os.path.exists('./out/'):\n",
      "    os.makedirs('./out/')\n",
      "f = open('./out/wakati.txt', 'w')\n",
      "f.write(''.join(wts))\n",
      "f.close()"
     ],
     "language": "python",
     "metadata": {},
     "outputs": [],
     "prompt_number": 6
    },
    {
     "cell_type": "markdown",
     "metadata": {},
     "source": [
      "## word2vec"
     ]
    },
    {
     "cell_type": "code",
     "collapsed": false,
     "input": [
      "%time sentences = word2vec.Text8Corpus('./out/wakati.txt')\n",
      "%time model = word2vec.Word2Vec(sentences, size=200)"
     ],
     "language": "python",
     "metadata": {},
     "outputs": []
    },
    {
     "cell_type": "code",
     "collapsed": false,
     "input": [
      "def isStopWord(c):\n",
      "    # \u3072\u3089\u304c\u306a2\u6587\u5b57\u4ee5\u4e0b\n",
      "    regexp = re.compile(r'^(?:\\xE3\\x81[\\x81-\\xBF]|\\xE3\\x82[\\x80-\\x93])+$')\n",
      "    if len(c) < 3 and regexp.search(c.encode('utf-8')):\n",
      "        return True\n",
      "    return False\n",
      "\n",
      "def sim(word, count):\n",
      "    out = model.most_similar(positive=[word])\n",
      "    return [x[0] for x in out if not isStopWord(x[0])][:count]"
     ],
     "language": "python",
     "metadata": {},
     "outputs": []
    },
    {
     "cell_type": "code",
     "collapsed": false,
     "input": [
      "for s in sim(u'Python'):\n",
      "    print s"
     ],
     "language": "python",
     "metadata": {},
     "outputs": []
    },
    {
     "cell_type": "code",
     "collapsed": false,
     "input": [],
     "language": "python",
     "metadata": {},
     "outputs": []
    }
   ],
   "metadata": {}
  }
 ]
}